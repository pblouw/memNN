{
 "cells": [
  {
   "cell_type": "code",
   "execution_count": 1,
   "metadata": {
    "collapsed": false
   },
   "outputs": [],
   "source": [
    "from psyrun.io import load_dict_h5\n",
    "from scikits import bootstrap\n",
    "import scipy\n",
    "\n",
    "%matplotlib inline"
   ]
  },
  {
   "cell_type": "markdown",
   "metadata": {},
   "source": [
    "# Load data"
   ]
  },
  {
   "cell_type": "code",
   "execution_count": 5,
   "metadata": {
    "collapsed": false
   },
   "outputs": [],
   "source": [
    "df = pd.concat([pd.DataFrame(load_dict_h5('../data/result0.h5')), pd.DataFrame(load_dict_h5('../data/result1.h5'))])"
   ]
  },
  {
   "cell_type": "code",
   "execution_count": 6,
   "metadata": {
    "collapsed": false
   },
   "outputs": [],
   "source": [
    "grouped = df.groupby(['word2vec', 'timetags', 'preinit', 'coref', 'roles', 'shift'])"
   ]
  },
  {
   "cell_type": "code",
   "execution_count": 7,
   "metadata": {
    "collapsed": false
   },
   "outputs": [
    {
     "data": {
      "text/html": [
       "<div style=\"max-height:1000px;max-width:1500px;overflow:auto;\">\n",
       "<table border=\"1\" class=\"dataframe\">\n",
       "  <thead>\n",
       "    <tr style=\"text-align: right;\">\n",
       "      <th></th>\n",
       "      <th></th>\n",
       "      <th></th>\n",
       "      <th></th>\n",
       "      <th></th>\n",
       "      <th></th>\n",
       "      <th>n_epochs</th>\n",
       "      <th>post_test_acc</th>\n",
       "      <th>post_train_acc</th>\n",
       "      <th>pre_test_acc</th>\n",
       "      <th>pre_train_acc</th>\n",
       "      <th>trial</th>\n",
       "    </tr>\n",
       "    <tr>\n",
       "      <th>word2vec</th>\n",
       "      <th>timetags</th>\n",
       "      <th>preinit</th>\n",
       "      <th>coref</th>\n",
       "      <th>roles</th>\n",
       "      <th>shift</th>\n",
       "      <th></th>\n",
       "      <th></th>\n",
       "      <th></th>\n",
       "      <th></th>\n",
       "      <th></th>\n",
       "      <th></th>\n",
       "    </tr>\n",
       "  </thead>\n",
       "  <tbody>\n",
       "    <tr>\n",
       "      <th rowspan=\"10\" valign=\"top\">False</th>\n",
       "      <th rowspan=\"5\" valign=\"top\">False</th>\n",
       "      <th rowspan=\"4\" valign=\"top\">False</th>\n",
       "      <th rowspan=\"2\" valign=\"top\">False</th>\n",
       "      <th>False</th>\n",
       "      <th>0.00</th>\n",
       "      <td> 20</td>\n",
       "      <td> 0.298287</td>\n",
       "      <td> 0.956804</td>\n",
       "      <td> 0.259306</td>\n",
       "      <td> 0.256884</td>\n",
       "      <td> 14.500000</td>\n",
       "    </tr>\n",
       "    <tr>\n",
       "      <th>True </th>\n",
       "      <th>0.00</th>\n",
       "      <td> 20</td>\n",
       "      <td> 0.303519</td>\n",
       "      <td> 0.972947</td>\n",
       "      <td> 0.253889</td>\n",
       "      <td> 0.268156</td>\n",
       "      <td> 14.500000</td>\n",
       "    </tr>\n",
       "    <tr>\n",
       "      <th rowspan=\"2\" valign=\"top\">True </th>\n",
       "      <th>False</th>\n",
       "      <th>0.00</th>\n",
       "      <td> 20</td>\n",
       "      <td> 0.252685</td>\n",
       "      <td> 0.982850</td>\n",
       "      <td> 0.253611</td>\n",
       "      <td> 0.251127</td>\n",
       "      <td> 14.500000</td>\n",
       "    </tr>\n",
       "    <tr>\n",
       "      <th>True </th>\n",
       "      <th>0.00</th>\n",
       "      <td> 20</td>\n",
       "      <td> 0.260602</td>\n",
       "      <td> 0.979469</td>\n",
       "      <td> 0.253750</td>\n",
       "      <td> 0.257649</td>\n",
       "      <td> 14.500000</td>\n",
       "    </tr>\n",
       "    <tr>\n",
       "      <th>True </th>\n",
       "      <th>False</th>\n",
       "      <th>False</th>\n",
       "      <th>0.00</th>\n",
       "      <td> 20</td>\n",
       "      <td> 0.300417</td>\n",
       "      <td> 0.861473</td>\n",
       "      <td> 0.397500</td>\n",
       "      <td> 0.392794</td>\n",
       "      <td> 14.500000</td>\n",
       "    </tr>\n",
       "    <tr>\n",
       "      <th rowspan=\"5\" valign=\"top\">True </th>\n",
       "      <th rowspan=\"5\" valign=\"top\">False</th>\n",
       "      <th rowspan=\"5\" valign=\"top\">False</th>\n",
       "      <th rowspan=\"5\" valign=\"top\">False</th>\n",
       "      <th>0.05</th>\n",
       "      <td> 20</td>\n",
       "      <td> 0.285648</td>\n",
       "      <td> 0.980556</td>\n",
       "      <td> 0.262685</td>\n",
       "      <td> 0.263647</td>\n",
       "      <td> 14.500000</td>\n",
       "    </tr>\n",
       "    <tr>\n",
       "      <th>0.10</th>\n",
       "      <td> 20</td>\n",
       "      <td> 0.286343</td>\n",
       "      <td> 0.979831</td>\n",
       "      <td> 0.244537</td>\n",
       "      <td> 0.256643</td>\n",
       "      <td> 14.500000</td>\n",
       "    </tr>\n",
       "    <tr>\n",
       "      <th>0.20</th>\n",
       "      <td> 20</td>\n",
       "      <td> 0.297546</td>\n",
       "      <td> 0.982246</td>\n",
       "      <td> 0.253796</td>\n",
       "      <td> 0.256200</td>\n",
       "      <td> 14.500000</td>\n",
       "    </tr>\n",
       "    <tr>\n",
       "      <th>0.40</th>\n",
       "      <td> 20</td>\n",
       "      <td> 0.287685</td>\n",
       "      <td> 0.980918</td>\n",
       "      <td> 0.247778</td>\n",
       "      <td> 0.259340</td>\n",
       "      <td> 14.500000</td>\n",
       "    </tr>\n",
       "    <tr>\n",
       "      <th>1.00</th>\n",
       "      <td> 20</td>\n",
       "      <td> 0.291944</td>\n",
       "      <td> 0.954630</td>\n",
       "      <td> 0.256111</td>\n",
       "      <td> 0.262882</td>\n",
       "      <td> 14.500000</td>\n",
       "    </tr>\n",
       "    <tr>\n",
       "      <th rowspan=\"10\" valign=\"top\">True </th>\n",
       "      <th rowspan=\"5\" valign=\"top\">False</th>\n",
       "      <th rowspan=\"4\" valign=\"top\">False</th>\n",
       "      <th rowspan=\"2\" valign=\"top\">False</th>\n",
       "      <th>False</th>\n",
       "      <th>0.00</th>\n",
       "      <td> 20</td>\n",
       "      <td> 0.276204</td>\n",
       "      <td> 0.903140</td>\n",
       "      <td> 0.251667</td>\n",
       "      <td> 0.270853</td>\n",
       "      <td> 14.500000</td>\n",
       "    </tr>\n",
       "    <tr>\n",
       "      <th>True </th>\n",
       "      <th>0.00</th>\n",
       "      <td> 20</td>\n",
       "      <td> 0.282917</td>\n",
       "      <td> 0.891224</td>\n",
       "      <td> 0.254259</td>\n",
       "      <td> 0.261916</td>\n",
       "      <td> 14.500000</td>\n",
       "    </tr>\n",
       "    <tr>\n",
       "      <th rowspan=\"2\" valign=\"top\">True </th>\n",
       "      <th>False</th>\n",
       "      <th>0.00</th>\n",
       "      <td> 20</td>\n",
       "      <td> 0.263102</td>\n",
       "      <td> 0.980757</td>\n",
       "      <td> 0.249120</td>\n",
       "      <td> 0.261755</td>\n",
       "      <td> 14.500000</td>\n",
       "    </tr>\n",
       "    <tr>\n",
       "      <th>True </th>\n",
       "      <th>0.00</th>\n",
       "      <td> 20</td>\n",
       "      <td> 0.263750</td>\n",
       "      <td> 0.979106</td>\n",
       "      <td> 0.255787</td>\n",
       "      <td> 0.263446</td>\n",
       "      <td> 14.500000</td>\n",
       "    </tr>\n",
       "    <tr>\n",
       "      <th>True </th>\n",
       "      <th>False</th>\n",
       "      <th>False</th>\n",
       "      <th>0.00</th>\n",
       "      <td> 20</td>\n",
       "      <td> 0.264815</td>\n",
       "      <td> 0.611715</td>\n",
       "      <td> 0.312222</td>\n",
       "      <td> 0.418961</td>\n",
       "      <td> 14.500000</td>\n",
       "    </tr>\n",
       "    <tr>\n",
       "      <th rowspan=\"5\" valign=\"top\">True </th>\n",
       "      <th rowspan=\"5\" valign=\"top\">False</th>\n",
       "      <th rowspan=\"5\" valign=\"top\">False</th>\n",
       "      <th rowspan=\"5\" valign=\"top\">False</th>\n",
       "      <th>0.05</th>\n",
       "      <td> 20</td>\n",
       "      <td> 0.280602</td>\n",
       "      <td> 0.923631</td>\n",
       "      <td> 0.249954</td>\n",
       "      <td> 0.263929</td>\n",
       "      <td> 14.500000</td>\n",
       "    </tr>\n",
       "    <tr>\n",
       "      <th>0.10</th>\n",
       "      <td> 20</td>\n",
       "      <td> 0.277500</td>\n",
       "      <td> 0.905072</td>\n",
       "      <td> 0.252546</td>\n",
       "      <td> 0.264452</td>\n",
       "      <td> 15.266667</td>\n",
       "    </tr>\n",
       "    <tr>\n",
       "      <th>0.20</th>\n",
       "      <td> 20</td>\n",
       "      <td> 0.278333</td>\n",
       "      <td> 0.951369</td>\n",
       "      <td> 0.259954</td>\n",
       "      <td> 0.260709</td>\n",
       "      <td> 14.500000</td>\n",
       "    </tr>\n",
       "    <tr>\n",
       "      <th>0.40</th>\n",
       "      <td> 20</td>\n",
       "      <td> 0.283287</td>\n",
       "      <td> 0.902415</td>\n",
       "      <td> 0.252454</td>\n",
       "      <td> 0.257287</td>\n",
       "      <td> 14.500000</td>\n",
       "    </tr>\n",
       "    <tr>\n",
       "      <th>1.00</th>\n",
       "      <td> 20</td>\n",
       "      <td> 0.287546</td>\n",
       "      <td> 0.897182</td>\n",
       "      <td> 0.250139</td>\n",
       "      <td> 0.265580</td>\n",
       "      <td> 14.500000</td>\n",
       "    </tr>\n",
       "  </tbody>\n",
       "</table>\n",
       "</div>"
      ],
      "text/plain": [
       "                                             n_epochs  post_test_acc  \\\n",
       "word2vec timetags preinit coref roles shift                            \n",
       "False    False    False   False False 0.00         20       0.298287   \n",
       "                                True  0.00         20       0.303519   \n",
       "                          True  False 0.00         20       0.252685   \n",
       "                                True  0.00         20       0.260602   \n",
       "                  True    False False 0.00         20       0.300417   \n",
       "         True     False   False False 0.05         20       0.285648   \n",
       "                                      0.10         20       0.286343   \n",
       "                                      0.20         20       0.297546   \n",
       "                                      0.40         20       0.287685   \n",
       "                                      1.00         20       0.291944   \n",
       "True     False    False   False False 0.00         20       0.276204   \n",
       "                                True  0.00         20       0.282917   \n",
       "                          True  False 0.00         20       0.263102   \n",
       "                                True  0.00         20       0.263750   \n",
       "                  True    False False 0.00         20       0.264815   \n",
       "         True     False   False False 0.05         20       0.280602   \n",
       "                                      0.10         20       0.277500   \n",
       "                                      0.20         20       0.278333   \n",
       "                                      0.40         20       0.283287   \n",
       "                                      1.00         20       0.287546   \n",
       "\n",
       "                                             post_train_acc  pre_test_acc  \\\n",
       "word2vec timetags preinit coref roles shift                                 \n",
       "False    False    False   False False 0.00         0.956804      0.259306   \n",
       "                                True  0.00         0.972947      0.253889   \n",
       "                          True  False 0.00         0.982850      0.253611   \n",
       "                                True  0.00         0.979469      0.253750   \n",
       "                  True    False False 0.00         0.861473      0.397500   \n",
       "         True     False   False False 0.05         0.980556      0.262685   \n",
       "                                      0.10         0.979831      0.244537   \n",
       "                                      0.20         0.982246      0.253796   \n",
       "                                      0.40         0.980918      0.247778   \n",
       "                                      1.00         0.954630      0.256111   \n",
       "True     False    False   False False 0.00         0.903140      0.251667   \n",
       "                                True  0.00         0.891224      0.254259   \n",
       "                          True  False 0.00         0.980757      0.249120   \n",
       "                                True  0.00         0.979106      0.255787   \n",
       "                  True    False False 0.00         0.611715      0.312222   \n",
       "         True     False   False False 0.05         0.923631      0.249954   \n",
       "                                      0.10         0.905072      0.252546   \n",
       "                                      0.20         0.951369      0.259954   \n",
       "                                      0.40         0.902415      0.252454   \n",
       "                                      1.00         0.897182      0.250139   \n",
       "\n",
       "                                             pre_train_acc      trial  \n",
       "word2vec timetags preinit coref roles shift                            \n",
       "False    False    False   False False 0.00        0.256884  14.500000  \n",
       "                                True  0.00        0.268156  14.500000  \n",
       "                          True  False 0.00        0.251127  14.500000  \n",
       "                                True  0.00        0.257649  14.500000  \n",
       "                  True    False False 0.00        0.392794  14.500000  \n",
       "         True     False   False False 0.05        0.263647  14.500000  \n",
       "                                      0.10        0.256643  14.500000  \n",
       "                                      0.20        0.256200  14.500000  \n",
       "                                      0.40        0.259340  14.500000  \n",
       "                                      1.00        0.262882  14.500000  \n",
       "True     False    False   False False 0.00        0.270853  14.500000  \n",
       "                                True  0.00        0.261916  14.500000  \n",
       "                          True  False 0.00        0.261755  14.500000  \n",
       "                                True  0.00        0.263446  14.500000  \n",
       "                  True    False False 0.00        0.418961  14.500000  \n",
       "         True     False   False False 0.05        0.263929  14.500000  \n",
       "                                      0.10        0.264452  15.266667  \n",
       "                                      0.20        0.260709  14.500000  \n",
       "                                      0.40        0.257287  14.500000  \n",
       "                                      1.00        0.265580  14.500000  "
      ]
     },
     "execution_count": 7,
     "metadata": {},
     "output_type": "execute_result"
    }
   ],
   "source": [
    "grouped.mean()"
   ]
  },
  {
   "cell_type": "markdown",
   "metadata": {},
   "source": [
    "# Plotting"
   ]
  },
  {
   "cell_type": "code",
   "execution_count": 8,
   "metadata": {
    "collapsed": true
   },
   "outputs": [],
   "source": [
    "sns.set('paper')"
   ]
  },
  {
   "cell_type": "code",
   "execution_count": 9,
   "metadata": {
    "collapsed": true
   },
   "outputs": [],
   "source": [
    "def get_condition_identifier(row):\n",
    "    active = []\n",
    "    if row['coref']:\n",
    "        active.append('coref')\n",
    "    if row['roles']:\n",
    "        active.append('roles')\n",
    "    if len(active) <= 0:\n",
    "        active.append('baseline')\n",
    "    return ' + '.join(active)"
   ]
  },
  {
   "cell_type": "code",
   "execution_count": 27,
   "metadata": {
    "collapsed": true
   },
   "outputs": [],
   "source": [
    "def add_chance_level(ax=None, significance=0.35):\n",
    "    if ax is None:\n",
    "        ax = plt.gca()\n",
    "    ax.axhline(0.25, color='0.26')\n",
    "    ax.axhline(significance, color='0.26', linestyle='--')"
   ]
  },
  {
   "cell_type": "code",
   "execution_count": 10,
   "metadata": {
    "collapsed": false
   },
   "outputs": [],
   "source": [
    "df['Features'] = df.apply(get_condition_identifier, axis=1)\n",
    "df['Memory embedding'] = df.apply(lambda x: 'word2vec' if x['word2vec'] else 'HRR', axis=1)"
   ]
  },
  {
   "cell_type": "code",
   "execution_count": 22,
   "metadata": {
    "collapsed": false
   },
   "outputs": [],
   "source": [
    "df2 = pd.melt(df.query('coref == False and roles == False and timetags == False and preinit == True'),\n",
    "    id_vars=['Memory embedding', 'trial', 'preinit'],\n",
    "    value_vars=['post_test_acc', 'post_train_acc', 'pre_test_acc', 'pre_train_acc'])\n",
    "df2['pre'] = df2.apply(lambda x: 'Untrained' if x['variable'].startswith('pre') else 'Trained', axis=1)\n",
    "df2['errortype'] = df2.apply(lambda x: 'training' if 'train' in x['variable'] else 'test', axis=1)"
   ]
  },
  {
   "cell_type": "code",
   "execution_count": 48,
   "metadata": {
    "collapsed": false
   },
   "outputs": [
    {
     "data": {
      "image/png": "[encoded data removed]",
      "text/plain": [
       "<matplotlib.figure.Figure at 0x11036e190>"
      ]
     },
     "metadata": {},
     "output_type": "display_data"
    }
   ],
   "source": [
    "plt.figure(figsize=(6.4, 2.2))\n",
    "\n",
    "plt.subplot(1, 2, 1)\n",
    "sns.barplot(\n",
    "    'Memory embedding', 'post_test_acc', 'Features',\n",
    "    data=df.query('timetags == False and preinit == False'),\n",
    "    order=['HRR', 'word2vec'],\n",
    "    hue_order=['baseline', 'coref', 'roles', 'coref + roles'])\n",
    "add_chance_level()\n",
    "plt.ylim(.2, 0.42)\n",
    "plt.ylabel('Accuracy on test set')\n",
    "\n",
    "plt.subplot(1, 2, 2)\n",
    "sns.pointplot(\n",
    "    'shift', 'post_test_acc', 'Memory embedding',\n",
    "    data=df.query('timetags == True'),\n",
    "    order=sorted(df['shift'].unique()))\n",
    "add_chance_level()\n",
    "plt.ylim(.2, 0.42)\n",
    "plt.xlabel('Shift hyper-parameter')\n",
    "plt.ylabel('')\n",
    "\n",
    "plt.tight_layout()\n",
    "plt.savefig('../../stat946-report/results1.pdf')"
   ]
  },
  {
   "cell_type": "code",
   "execution_count": 76,
   "metadata": {
    "collapsed": false
   },
   "outputs": [
    {
     "data": {
      "image/png": "[encoded data removed]",
      "text/plain": [
       "<matplotlib.figure.Figure at 0x111e55ed0>"
      ]
     },
     "metadata": {},
     "output_type": "display_data"
    }
   ],
   "source": [
    "g = sns.factorplot(\n",
    "    'pre', 'value', 'Memory embedding', col='errortype',\n",
    "    data=df2,\n",
    "    order=['Untrained', 'Trained'], col_order=['training', 'test'], hue_order=['HRR', 'word2vec'],\n",
    "    size=2.5, aspect=1)\n",
    "g.set_titles(\"Accuracy on {col_name} set\").set_xlabels('').set_ylabels('Accuracy')\n",
    "for name, ax in zip(g.col_names, g.axes[0]):\n",
    "    if name == 'training':\n",
    "        add_chance_level(ax, .32)\n",
    "    else:\n",
    "        add_chance_level(ax)\n",
    "        \n",
    "plt.tight_layout()\n",
    "plt.savefig('../../stat946-report/results2.pdf')"
   ]
  },
  {
   "cell_type": "markdown",
   "metadata": {},
   "source": [
    "# Best 500"
   ]
  },
  {
   "cell_type": "code",
   "execution_count": 2,
   "metadata": {
    "collapsed": true
   },
   "outputs": [],
   "source": [
    "best500 = pd.DataFrame(load_dict_h5('../data/best500.h5'))"
   ]
  },
  {
   "cell_type": "code",
   "execution_count": 3,
   "metadata": {
    "collapsed": false
   },
   "outputs": [
    {
     "data": {
      "text/plain": [
       "coref              0.000000\n",
       "n_epochs          20.000000\n",
       "post_test_acc      0.305741\n",
       "post_train_acc     0.783707\n",
       "pre_test_acc       0.255426\n",
       "pre_train_acc      0.261373\n",
       "preinit            0.000000\n",
       "roles              1.000000\n",
       "shift              0.200000\n",
       "timetags           1.000000\n",
       "trial             14.500000\n",
       "word2vec           0.000000\n",
       "dtype: float64"
      ]
     },
     "execution_count": 3,
     "metadata": {},
     "output_type": "execute_result"
    }
   ],
   "source": [
    "best500.mean()"
   ]
  },
  {
   "cell_type": "code",
   "execution_count": 4,
   "metadata": {
    "collapsed": false
   },
   "outputs": [
    {
     "data": {
      "text/plain": [
       "array([ 0.2945    ,  0.31185185])"
      ]
     },
     "execution_count": 4,
     "metadata": {},
     "output_type": "execute_result"
    }
   ],
   "source": [
    "bootstrap.ci(best500['post_test_acc'])"
   ]
  },
  {
   "cell_type": "markdown",
   "metadata": {},
   "source": [
    "# Notrain500"
   ]
  },
  {
   "cell_type": "code",
   "execution_count": 71,
   "metadata": {
    "collapsed": true
   },
   "outputs": [],
   "source": [
    "notrain500 = pd.DataFrame(load_dict_h5('../data/notrain500.h5'))"
   ]
  },
  {
   "cell_type": "code",
   "execution_count": 72,
   "metadata": {
    "collapsed": false
   },
   "outputs": [
    {
     "data": {
      "text/plain": [
       "coref             0.000000\n",
       "pre_test_acc      0.364000\n",
       "pre_train_acc     0.375673\n",
       "preinit           1.000000\n",
       "roles             0.000000\n",
       "timetags          0.000000\n",
       "trial            14.500000\n",
       "word2vec          0.000000\n",
       "dtype: float64"
      ]
     },
     "execution_count": 72,
     "metadata": {},
     "output_type": "execute_result"
    }
   ],
   "source": [
    "notrain500.mean()"
   ]
  },
  {
   "cell_type": "code",
   "execution_count": 75,
   "metadata": {
    "collapsed": false
   },
   "outputs": [
    {
     "data": {
      "text/plain": [
       "array([ 0.35768519,  0.37092593])"
      ]
     },
     "execution_count": 75,
     "metadata": {},
     "output_type": "execute_result"
    }
   ],
   "source": [
    "bootstrap.ci(notrain500['pre_test_acc'])"
   ]
  },
  {
   "cell_type": "code",
   "execution_count": null,
   "metadata": {
    "collapsed": true
   },
   "outputs": [],
   "source": []
  }
 ],
 "metadata": {
  "kernelspec": {
   "display_name": "Python 2",
   "language": "python",
   "name": "python2"
  },
  "language_info": {
   "codemirror_mode": {
    "name": "ipython",
    "version": 2
   },
   "file_extension": ".py",
   "mimetype": "text/x-python",
   "name": "python",
   "nbconvert_exporter": "python",
   "pygments_lexer": "ipython2",
   "version": "2.7.10"
  }
 },
 "nbformat": 4,
 "nbformat_minor": 0
}
